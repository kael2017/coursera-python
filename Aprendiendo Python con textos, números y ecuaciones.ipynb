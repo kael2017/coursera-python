{
 "cells": [
  {
   "cell_type": "markdown",
   "metadata": {},
   "source": [
    "<a id='inicio'></a>\n",
    "# Proyecto: Aprendiendo Python con textos, números y ecuaciones"
   ]
  },
  {
   "cell_type": "markdown",
   "metadata": {},
   "source": [
    "## Objetivo:\n",
    "<font size=\"3\">El proyecto consiste en crear un programa para resolver ecuaciones lineales, o de primer grado, similares a:<br>\n",
    "\n",
    "$$4x + 2 - 5x + 3 = 8 - 3x + 1$$<br> \n",
    "El programa presenta un número de ecuaciones lineales secuencialmente. Para cada ecuación, solicita al usuario la solución, el valor de la variable x. Luego, compara la solución provista con la solución calculada internamente. Si las soluciones son diferentes, muestra cada paso para llegar a la solución del computador. Al finalizar los ejercicios el programa informa el tiempo empleado y el número de ecuaciones resueltas correctamente.</font>"
   ]
  },
  {
   "cell_type": "markdown",
   "metadata": {},
   "source": [
    "<font size=\"3\">Tareas</font> | <font size=\"3\">Título</font>\n",
    ":--------: | -------\n",
    "<font size=\"3\">[1](#tarea1)</font> | <font size=\"3\">Explorando datos y funciones</font>\n",
    "<font size=\"3\">[2](#tarea2)</font> | <font size=\"3\">Procesando listas</font>\n",
    "<font size=\"3\">[3](#tarea3)</font> | <font size=\"3\">Evaluando respuestas</font>\n",
    "<font size=\"3\">[4](#tarea4)</font> | <font size=\"3\">Midiendo desempeños</font>\n",
    "<font size=\"3\">[5](#tarea5)</font> | <font size=\"3\">Creando listas de términos y expresiones lineales</font>\n",
    "<font size=\"3\">[6](#tarea6)</font> | <font size=\"3\">Planteando ecuaciones</font>\n",
    "<font size=\"3\">[7](#tarea7)</font> | <font size=\"3\">Resolviendo ecuaciones</font>\n",
    "<font size=\"3\">[8](#tarea8)</font> | <font size=\"3\">Creando un módulo de funciones</font>"
   ]
  },
  {
   "cell_type": "markdown",
   "metadata": {},
   "source": [
    "<a id='tarea1'></a><br>\n",
    "# [Tarea 1](#inicio)\n",
    "# Explorando datos y funciones\n",
    "### Objetivo de aprendizaje:\n",
    "- Al finalizar esta tarea serás capaz de editar y ejecutar instrucciones de Python en Jupyter para mostrar información y solicitar datos."
   ]
  },
  {
   "cell_type": "markdown",
   "metadata": {},
   "source": [
    "## 1.1 Un método de solución de ecuaciones lineales\n",
    "> 1. **Plantear la ecuación:** igualar dos expresiones lineales\n",
    "$$4x + 2 - 5x + 3 = 8 - 3x + 1$$<br>\n",
    "> 2. **Agrupar términos semejantes:** términos lineales en el primer miembro de la ecuación y términos independientes en el segundo miembro de la ecuación\n",
    "$$4x - 5x + 3x = 8 + 1 - 2 - 3$$<br>\n",
    "> 3. **Reducir términos:** operar los coeficientes del lado izquierdo y las constantes del lado derecho\n",
    "$$2x = 4$$<br>\n",
    "> 4. **Despejar la variable:** dividir la constante reducida entre el coeficiente reducido\n",
    "$$x = 4/2$$<br>\n",
    "> 5. **Presentar la solución**\n",
    "$$x = 2$$<br>"
   ]
  },
  {
   "cell_type": "markdown",
   "metadata": {},
   "source": [
    "## 1.2 Especificaciones:\n",
    "\n",
    "### Lista de tareas de programación\n",
    "- <font size=\"3\">Elegir un número de ecuaciones.</font>\n",
    "- <font size=\"3\">Plantear ecuaciones lineales con soluciones enteras.</font>\n",
    "- <font size=\"3\">Resolver las ecuaciones paso a paso.</font>\n",
    "- <font size=\"3\">Calcular e informar el tiempo de la prueba.</font>\n",
    "- <font size=\"3\">Calcular e informar el número de ejercicios resueltos correctamente.</font>\n",
    "- <font size=\"3\">Crear ecuaciones diferentes.</font>\n",
    "- <font size=\"3\">Crear expresiones lineales.</font>\n",
    "- <font size=\"3\">Crear términos lineales y términos independientes.</font>\n",
    "- <font size=\"3\">Comparar las soluciones del usuario y del programa.</font>\n",
    "- <font size=\"3\">Presentar las ecuaciones en un orden.</font>\n",
    "\n",
    "### Algoritmo\n",
    "```python\n",
    "Elegir un número de ecuaciones y asignarlo a N\n",
    "Hacer el número de aciertos igual a cero\n",
    "Tomar la hora inicial de los ejercicios\n",
    "Repetir N veces\n",
    "    Presentar una ecuación\n",
    "    Solicitar la solución\n",
    "    Si la solución es correcta:\n",
    "        Felicitar al usuario\n",
    "        Aumentar el número de aciertos en uno\n",
    "    Sino\n",
    "        Mostrar la solución correcta\n",
    "Tomar la hora final de los ejercicios\n",
    "Calcular el tiempo de la prueba\n",
    "Presentar el número de aciertos y el tiempo de la prueba\n",
    "```"
   ]
  },
  {
   "cell_type": "markdown",
   "metadata": {},
   "source": [
    "## 1.3 Python y Jupyter\n",
    "\n",
    "**Python** es en lenguaje de programación y **Jupyter** es un entorno de edición y ejecución que utiliza cuadernos como el que estamos usando ahora. En este cuaderno hay celdas para editar textos como este, y para editar códigos de programas.\n",
    "\n",
    "Python ofrece varios recursos de programación, entre los que se encuentran objetos, instrucciones, sentencias, funciones y módulos, que son los elementos que exploraremos en este proyecto. Visita [Python](https://docs.python.org/3.7/index.html) por información al día acerca del lenguaje. La versión que usaremos es 3.7 y un entorno para tu computador podría ser [Anaconda edición individual](https://www.anaconda.com/products/individual). También sugiero consultar un [tutorial de Python](https://docs.python.org/es/3.7/tutorial/index.html) en español.\n",
    "\n",
    "### Funciones\n",
    "Las **funciones** realizan tareas comunes y específicas. Se definen con **parámetros** y se utilizan con **argumentos** que especifican sus acciones. Los argumentos de las funciones de Python incluyen valores, objetos y operaciones entre objetos o expresiones.\n",
    "\n",
    "### Objetos\n",
    "Los **objetos** son entidades que almacenan datos de algún tipo y sobre los cuales aplican operaciones y transformaciones definidas de acuerdo al tipo. Los tipos comunes son **str** para textos (cadenas de caracteres), **int** para números enteros, **float** para números decimales, **bool** para valores lógicos, **list** para listas, **range** para rangos, entre otros. Los objetos poseen **métodos**, o funciones que ellos ejecutan.\n",
    "\n",
    "### Edición y ejecución de código\n",
    "En **Jupyter** los programas de **Python** se editan y ejecutan en celdas. Cada celda funciona como una unidad de programación y el conjunto de las celdas hacen un programa principal. Las celdas típicamente se organizan secuencialmente pero pueden ser ejecutadas en cualquier orden. Al escribir códigos en las celdas los caracteres son coloreados automáticamente para distinguir elementos del lenguaje. Para ejecutar el código de una celda se pulsa en el botón **Run** de la barra de herramientas o se pulsan simultáneamente las teclas Mayúsculas y Entrar (Windows) o Control + Entrar (Mac)."
   ]
  },
  {
   "cell_type": "markdown",
   "metadata": {},
   "source": [
    "## 1.4 Solicitando y mostrando información"
   ]
  },
  {
   "cell_type": "markdown",
   "metadata": {},
   "source": [
    "### La función print\n",
    "La función **print** muestra información de objetos en la forma de texto. El texto está formado por una secuencia de caracteres y se coloca entre comillas (simples o dobles) dentro de un par de paréntesis."
   ]
  },
  {
   "cell_type": "code",
   "execution_count": null,
   "metadata": {},
   "outputs": [],
   "source": [
    "print(\"Simplifique la expresión algebraica  3x + 7 - x - 6\")"
   ]
  },
  {
   "cell_type": "markdown",
   "metadata": {},
   "source": [
    "### Los objetos str\n",
    "Los objetos **str**, _string_, almacenan información textual como cadenas de caracteres. Sus valores o contenidos se especifican entre comillas simples ('), dobles (\") o triples (''', \"\"\")."
   ]
  },
  {
   "cell_type": "code",
   "execution_count": null,
   "metadata": {},
   "outputs": [],
   "source": [
    "solucion = \"2x + 1\""
   ]
  },
  {
   "cell_type": "markdown",
   "metadata": {},
   "source": [
    "### La función input\n",
    "La función **input** solicita datos que se ingresan como objetos **str** que en el caso del editor de Jupyter se ingresa en una casilla. Puede tener un argumento para indicar el propósito de la solicitud."
   ]
  },
  {
   "cell_type": "code",
   "execution_count": null,
   "metadata": {},
   "outputs": [],
   "source": [
    "respuesta = input(\"Respuesta: \")"
   ]
  },
  {
   "cell_type": "markdown",
   "metadata": {},
   "source": [
    "### El método format\n",
    "El método **format** de los objetos de texto inserta valores de objetos en objetos de texto con un formato."
   ]
  },
  {
   "cell_type": "code",
   "execution_count": null,
   "metadata": {},
   "outputs": [],
   "source": [
    "print('Has ingresado {}'.format(respuesta))"
   ]
  },
  {
   "cell_type": "markdown",
   "metadata": {},
   "source": [
    "### El operador de igualdad\n",
    "El operador **==** (dos signos iguales consecutivos) compara el valor de objetos y expresiones de Python, y produce un objeto de tipo **bool** (booleano, lógico), con dos posibles valores **False** (falso) o **True** (verdadero)."
   ]
  },
  {
   "cell_type": "code",
   "execution_count": null,
   "metadata": {},
   "outputs": [],
   "source": [
    "respuesta == solucion "
   ]
  },
  {
   "cell_type": "markdown",
   "metadata": {},
   "source": [
    "### El caracter de escape de nueva línea\n",
    "El caracter de escape **\\n** en los textos resulta práctico para insertar nuevas líneas como parte del texto."
   ]
  },
  {
   "cell_type": "code",
   "execution_count": null,
   "metadata": {},
   "outputs": [],
   "source": [
    "print(\"Resolver:\\n2x + 7 = 15\")"
   ]
  },
  {
   "cell_type": "markdown",
   "metadata": {},
   "source": [
    "### Combinando entrada y salida de datos "
   ]
  },
  {
   "cell_type": "code",
   "execution_count": null,
   "metadata": {},
   "outputs": [],
   "source": [
    "expresion = \"3x + 7 - x - 6\"\n",
    "solucion = \"2x + 1\"\n",
    "\n",
    "print(\"Ejercicio de simplificación de expresiones lineales\")\n",
    "print(\"Ejemplos de respuestas: 3x + 1, -x + 8, 2, -5x, 0, x + 1\\n\")\n",
    "\n",
    "respuesta = input(\"Simplifique la expresión lineal  {} = \".format(expresion))\n",
    "\n",
    "print('Has ingresado {} y la respuesta es {}'.format(respuesta, solucion))\n",
    "\n",
    "print(\"\\nTu respuesta es igual a la solución: {}\".format(respuesta == solucion))"
   ]
  },
  {
   "cell_type": "markdown",
   "metadata": {},
   "source": [
    "## 1.5 Creando funciones\n",
    "La función **ejercicio** se define con la palabra **def**, seguida del nombre, paréntesis, parámetros separados por comas (si hubieran), y **dos puntos**. El contenido de la función ejercicio está conformado por las instrucciones de la celda anterior y todas ellas están en líneas con sangrías (espacios tabulados). La sangría define a qué bloque pertenece una instrucción."
   ]
  },
  {
   "cell_type": "code",
   "execution_count": null,
   "metadata": {},
   "outputs": [],
   "source": [
    "def ejercicio(expresion, solucion):\n",
    "    print(\"Ejercicio de simplificación de expresiones lineales\")\n",
    "    print(\"Ejemplos de respuestas: 3x + 1, -x + 8, 2, -5x, 0, x + 1\\n\")\n",
    "\n",
    "    respuesta = input(\"Simplifique la expresión lineal  {} = \".format(expresion))\n",
    "\n",
    "    print('Has ingresado {} y la respuesta es {}'.format(respuesta, solucion))\n",
    "\n",
    "    print(\"\\nTu respuesta es igual a la solución: {}\".format(respuesta == solucion))"
   ]
  },
  {
   "cell_type": "code",
   "execution_count": null,
   "metadata": {},
   "outputs": [],
   "source": [
    "ejercicio(\"3x + 7 - x - 6\", \"2x + 1\")"
   ]
  },
  {
   "cell_type": "code",
   "execution_count": null,
   "metadata": {
    "scrolled": true
   },
   "outputs": [],
   "source": [
    "ejercicio(\"5x + 9 - 5x - 5\", \"4\")"
   ]
  },
  {
   "cell_type": "markdown",
   "metadata": {},
   "source": [
    "## 1.6 Algoritmo y documentación\n",
    "### Función ejercicio\n",
    "```python\n",
    "Recibe una expresión lineal y su versión simplificada\n",
    "Muestra información sobre el ejercicio\n",
    "Presenta la expresión lineal\n",
    "Solicita la expresión simplificada\n",
    "Almacena la respuesta\n",
    "Confirma la respuesta recibida\n",
    "Muestra la solución\n",
    "Compara la respuesta ingresada con la solución\n",
    "Muestra el resultado de la comparación\n",
    "```"
   ]
  },
  {
   "cell_type": "markdown",
   "metadata": {},
   "source": [
    "### Comentarios\n",
    "El texto entre triples comillas documenta el propósito y uso de la función. El texto después del caracter numeral informa sobre el propósito y efecto de la instrucción o parte del código."
   ]
  },
  {
   "cell_type": "code",
   "execution_count": null,
   "metadata": {},
   "outputs": [],
   "source": [
    "def ejercicio(expresion, solucion):\n",
    "    \"\"\"\n",
    "    Presenta un ejercicio de reducción de expresiones lineales.\n",
    "    Recibe una expresión lineal y su valor simplificado como textos.\n",
    "    Después de ingresar una respuesta, la compara con la\n",
    "    solución y muestra el resultado.\n",
    "    \"\"\"\n",
    "    # muestra información sobre el ejercicio\n",
    "    print(\"\\nEjercicio de simplificación de expresiones lineales\")\n",
    "    print(\"Ejemplos de respuestas: 3x + 1, -x + 8, 2, -5x, 0, x + 1\\n\")\n",
    "    \n",
    "    # presenta la expresión lineal, solicita la expresión simplificada\n",
    "    # y almacena la respuesta\n",
    "    respuesta = input(\"Simplifique la expresión lineal  {} = \".format(expresion))\n",
    "\n",
    "    # confirma la respuesta recibida y muestra la solución\n",
    "    print('Has ingresado {} y la respuesta es {}.'.format(respuesta, solucion))\n",
    "\n",
    "    # compara la respuesta del usuario con la solución\n",
    "    # y muestra el resultado de la comparación\n",
    "    print(\"\\nTu respuesta es igual a la solución: {}.\".format(respuesta == solucion))"
   ]
  },
  {
   "cell_type": "markdown",
   "metadata": {},
   "source": [
    "### La función help\n",
    "La función **help** brinda información de los elementos de Python. Si ejecuto help con el nombre print entre paréntesis aparece una descripción de print en inglés. Si la palabra de consulta no es función debe escribirse entre comillas, como en **help(\"for\")**. Si ejecuto **help()**, sin nada entre paréntesis, aparece una ayuda interactiva en inglés."
   ]
  },
  {
   "cell_type": "code",
   "execution_count": null,
   "metadata": {},
   "outputs": [],
   "source": [
    "help(print)"
   ]
  },
  {
   "cell_type": "code",
   "execution_count": null,
   "metadata": {},
   "outputs": [],
   "source": [
    "help(ejercicio)"
   ]
  },
  {
   "cell_type": "markdown",
   "metadata": {},
   "source": [
    "### Prácticas"
   ]
  },
  {
   "cell_type": "markdown",
   "metadata": {},
   "source": [
    "### 1\n",
    "```python\n",
    "Muestra el mensaje \"Escucho, olvido. Veo, recuerdo. Hago, entonces entiendo. Confucio.\"\n",
    "\n",
    "El resultado podría ser similar a:\n",
    "Escucho, olvido. Veo, recuerdo. Hago, entonces entiendo. Confucio.\n",
    "```"
   ]
  },
  {
   "cell_type": "code",
   "execution_count": null,
   "metadata": {},
   "outputs": [],
   "source": [
    "print(\"---reemplaza este texto---\")"
   ]
  },
  {
   "cell_type": "markdown",
   "metadata": {},
   "source": [
    "### 2\n",
    "```python\n",
    "Solicita un número con el siguiente mensaje: \"Ingrese un número entre 1 y 10: \"\n",
    "El resultado debería ser similar a:\n",
    "Ingrese un número entre 1 y 10: 5\n",
    "\n",
    "Muestra el número ingresado con la función print y el método format.\n",
    "El resultado podría ser similar a:\n",
    "Has ingresado 5.\n",
    "```"
   ]
  },
  {
   "cell_type": "code",
   "execution_count": 3,
   "metadata": {},
   "outputs": [
    {
     "name": "stdout",
     "output_type": "stream",
     "text": [
      "Ingrese un número entre 1 y 10: 5\n",
      "---reemplaza este texto--- 5\n"
     ]
    }
   ],
   "source": [
    "numero = input(\"Ingrese un número entre 1 y 10: \")\n",
    "\n",
    "print(\"---reemplaza este texto--- {}\".format(numero))"
   ]
  },
  {
   "cell_type": "markdown",
   "metadata": {},
   "source": [
    "### 3\n",
    "```python\n",
    "Asigna al objeto expresion el valor \"2x + 5 - 8 + 2x\"\n",
    "Asigna al objeto solucion el valor \"4x - 3\"\n",
    "Reemplaza los argumentos de la función ejercicio con los objetos apropiados \n",
    "\n",
    "El resultado podría ser similar a:\n",
    "Simplifique la expresión algebraica  2x + 5 - 8 + 2x = 4x - 3\n",
    "Has ingresado 4x - 3.\n",
    "La respuesta es 4x - 3.\n",
    "```"
   ]
  },
  {
   "cell_type": "code",
   "execution_count": null,
   "metadata": {},
   "outputs": [],
   "source": [
    "expresion = \"reemplazar\"\n",
    "\n",
    "solucion = \"reemplazar\"\n",
    "\n",
    "ejercicio(reemplaza_este_argumento_con_un_objeto, reemplaza_este_argumento_con_un_objeto)"
   ]
  },
  {
   "cell_type": "markdown",
   "metadata": {},
   "source": [
    "<a id='tarea2'></a><br>\n",
    "# [Tarea 2](#inicio)\n",
    "# Procesando listas\n",
    "### Objetivo de aprendizaje:\n",
    "- Al finalizar esta tarea serás capaz de crear listas con contenidos predeterminados y procesarlas iterativamente."
   ]
  },
  {
   "cell_type": "markdown",
   "metadata": {},
   "source": [
    "## 2.1 Listas\n",
    "### Los objetos list\n",
    "Los objetos **list** almacenan listas. Una lista se define con objetos separados por comas y encerrados entre corchetes. Una lista vacía se indica por corchetes vacíos."
   ]
  },
  {
   "cell_type": "code",
   "execution_count": null,
   "metadata": {},
   "outputs": [],
   "source": [
    "numeros = [1, 2, 3, 4, 5]\n",
    "print(numeros)"
   ]
  },
  {
   "cell_type": "markdown",
   "metadata": {},
   "source": [
    "### Listas de expresiones lineales y sur versiones reducidas\n",
    "La lista expresiones contiene expresiones lineales, mientras que la lista soluciones contiene las versiones reducidas o simplificadas."
   ]
  },
  {
   "cell_type": "code",
   "execution_count": null,
   "metadata": {},
   "outputs": [],
   "source": [
    "expresiones = [\"3x + 7 - x - 6\", \n",
    "               \"5x + 9 - 5x - 5\",\n",
    "               \"-x - 8 + 2x + 8\"]\n",
    "soluciones = [\"2x + 1\", \"4\", \"x\"]\n",
    "\n",
    "print(expresiones)\n",
    "print(soluciones)"
   ]
  },
  {
   "cell_type": "markdown",
   "metadata": {},
   "source": [
    "### Cantidad de elementos de una lista\n",
    "La función **len** retorna el número de elementos de una lista"
   ]
  },
  {
   "cell_type": "code",
   "execution_count": null,
   "metadata": {},
   "outputs": [],
   "source": [
    "len(expresiones)"
   ]
  },
  {
   "cell_type": "markdown",
   "metadata": {},
   "source": [
    "### Selección de elementos\n",
    "Un elemento de la lista se selecciona con el nombre de la lista y entre corchetes el número de su posición o índice. Los índices comienzan en 0, con el primer elemento de la lista. Los índices negativos seleccionan elementos desde el final, por ejemplo, -1 señala al último elemento y -2 al penúltimo. Si un índice está fuera del rango de la lista la selección causa un error y el programa se detiene."
   ]
  },
  {
   "cell_type": "code",
   "execution_count": null,
   "metadata": {},
   "outputs": [],
   "source": [
    "expresiones[0]"
   ]
  },
  {
   "cell_type": "code",
   "execution_count": null,
   "metadata": {},
   "outputs": [],
   "source": [
    "expresiones[-1]"
   ]
  },
  {
   "cell_type": "code",
   "execution_count": null,
   "metadata": {},
   "outputs": [],
   "source": [
    "# índice fuera de rango, lanza un error\n",
    "expresiones[3]"
   ]
  },
  {
   "cell_type": "markdown",
   "metadata": {},
   "source": [
    "### Ejercicios con expresiones y soluciones\n",
    "La función ejercicio puede ser llamada con cada elemento de la lista."
   ]
  },
  {
   "cell_type": "code",
   "execution_count": null,
   "metadata": {},
   "outputs": [],
   "source": [
    "ejercicio(expresiones[0], soluciones[0])\n",
    "ejercicio(expresiones[1], soluciones[1])\n",
    "ejercicio(expresiones[2], soluciones[2])"
   ]
  },
  {
   "cell_type": "markdown",
   "metadata": {},
   "source": [
    "## 2.2 La sentencia for\n",
    "La sentencia **for** toma consecutivamente todos los objetos de un objeto iterable, como las listas, y ejecuta acciones para cada objeto."
   ]
  },
  {
   "cell_type": "code",
   "execution_count": null,
   "metadata": {},
   "outputs": [],
   "source": [
    "\"\"\"\n",
    "for objeto in iterable:\n",
    "    sentencias\n",
    "\"\"\"\n",
    "for i in [1, 2, 3]:\n",
    "    print(i)"
   ]
  },
  {
   "cell_type": "markdown",
   "metadata": {},
   "source": [
    "### Selección con objetos\n",
    "Para cada objeto **expresion** en la lista **expresiones** muestra el valor del objeto expresion."
   ]
  },
  {
   "cell_type": "code",
   "execution_count": null,
   "metadata": {},
   "outputs": [],
   "source": [
    "for expresion in expresiones:\n",
    "    print(expresion)"
   ]
  },
  {
   "cell_type": "markdown",
   "metadata": {},
   "source": [
    "### Selección por índices\n",
    "Para cada objeto **indice** en la lista de números del 0 al 2 muestra el elemento de **expresiones** indicado por **indice**."
   ]
  },
  {
   "cell_type": "code",
   "execution_count": null,
   "metadata": {},
   "outputs": [],
   "source": [
    "for indice in [0, 1, 2]:\n",
    "    print(expresiones[indice])"
   ]
  },
  {
   "cell_type": "markdown",
   "metadata": {},
   "source": [
    "### El objeto range\n",
    "El objeto **range** entrega secuencialmente números enteros en un rango predeterminado. **range(m, n)** retorna enteros entre m y n - 1, es decir, todos los enteros entre m y uno antes que n. **range(n)** es equivalente a **range(0, n)**. Es conveniente para acceder a listas mediante índices."
   ]
  },
  {
   "cell_type": "code",
   "execution_count": null,
   "metadata": {},
   "outputs": [],
   "source": [
    "for i in range(3):\n",
    "    print(i)"
   ]
  },
  {
   "cell_type": "code",
   "execution_count": null,
   "metadata": {},
   "outputs": [],
   "source": [
    "for i in range(15, 20):\n",
    "    print(i)"
   ]
  },
  {
   "cell_type": "code",
   "execution_count": null,
   "metadata": {},
   "outputs": [],
   "source": [
    "for i in range(len(expresiones)):\n",
    "    print(\"La expresión reducida de  {}  es  {}.\".format(expresiones[i], soluciones[i]))"
   ]
  },
  {
   "cell_type": "markdown",
   "metadata": {},
   "source": [
    "### La función zip\n",
    "La función zip provee tuplas a partir de objetos iterables, como las listas. Una tupla es un tipo de dato que tiene datos entre paréntesis separados por comas. En este ejemplo la función zip forma las tuplas con los elementos de las mismas posiciones en las listas y el objeto i toma cada una de las tuplas, que se visualizan con la función print."
   ]
  },
  {
   "cell_type": "code",
   "execution_count": null,
   "metadata": {},
   "outputs": [],
   "source": [
    "for i in zip([1, 2, 3], ['a', 'b','c']):\n",
    "    print(i)"
   ]
  },
  {
   "cell_type": "markdown",
   "metadata": {},
   "source": [
    "Cada elemento en las tuplas puede ser asignado a objetos individualmente."
   ]
  },
  {
   "cell_type": "code",
   "execution_count": null,
   "metadata": {},
   "outputs": [],
   "source": [
    "for i, j in zip([1, 2, 3], ['a', 'b', 'c']):\n",
    "    print(\"{} está emparejado con {}\".format(i, j))"
   ]
  },
  {
   "cell_type": "markdown",
   "metadata": {},
   "source": [
    "La función ejercicio ahora puede ser utilizada iterativamente con un código más claro y compacto."
   ]
  },
  {
   "cell_type": "code",
   "execution_count": null,
   "metadata": {},
   "outputs": [],
   "source": [
    "for expresion, solucion in zip(expresiones, soluciones):\n",
    "    ejercicio(expresion, solucion)\n",
    "    print()"
   ]
  },
  {
   "cell_type": "markdown",
   "metadata": {},
   "source": [
    "### Práctica"
   ]
  },
  {
   "cell_type": "markdown",
   "metadata": {},
   "source": [
    "### 1\n",
    "```python\n",
    "Algoritmo para sumar números entre 1 y 10:\n",
    "\n",
    "Colocar una suma en cero\n",
    "Para cada valor de i en el rango de 1 a 10\n",
    "    Asignar a suma el valor de suma más el número i\n",
    "Mostrar la suma\n",
    " \n",
    "El resultado podría ser similar a:\n",
    "La suma de los diez primeros números naturales es 55.\n",
    "```"
   ]
  },
  {
   "cell_type": "code",
   "execution_count": null,
   "metadata": {},
   "outputs": [],
   "source": [
    "# suma los números entre 1 y 10 \n",
    "suma = 0\n",
    "for i in range(1, reemplazar_por_un_numero):\n",
    "    suma = suma + reemplazar_por_un_objeto\n",
    "print(\"La suma de los diez primeros números naturales es {}.\".format(reemplazar_por_un_objeto))"
   ]
  },
  {
   "cell_type": "markdown",
   "metadata": {},
   "source": [
    "<a id='tarea3'></a><br>\n",
    "# [Tarea 3](#inicio)\n",
    "# Evaluando respuestas\n",
    "### Objetivo de aprendizaje:\n",
    "- Al finalizar esta tarea serás capaz de evaluar y comparar valores y expresiones de Python y procesar datos iterativamente."
   ]
  },
  {
   "cell_type": "markdown",
   "metadata": {},
   "source": [
    "## 3.1 La sentencia if\n",
    "La sentencia **if** ejecuta bloques de código condicionalmente, de acuerdo al resultado lógico de una expresión."
   ]
  },
  {
   "cell_type": "code",
   "execution_count": null,
   "metadata": {},
   "outputs": [],
   "source": [
    "\"\"\"\n",
    "if expresion:\n",
    "    sentencias\n",
    "(elif expresion:\n",
    "    sentencias)\n",
    "[else:\n",
    "    sentencias)\n",
    "\"\"\"\n",
    "a = 5\n",
    "if a > 0:\n",
    "    print('a es positivo')\n",
    "elif a == 0:\n",
    "    print('a es cero')\n",
    "else:\n",
    "    print('a es negativo')"
   ]
  },
  {
   "cell_type": "markdown",
   "metadata": {},
   "source": [
    "### El operador in con textos\n",
    "El operador **in** aplicado a los textos evalúa si un texto está presente en otro texto. Si es así retorna True, sino retorna False."
   ]
  },
  {
   "cell_type": "code",
   "execution_count": null,
   "metadata": {},
   "outputs": [],
   "source": [
    "'x' in '-3x'"
   ]
  },
  {
   "cell_type": "markdown",
   "metadata": {},
   "source": [
    "### Identificación de términos lineales y términos independientes"
   ]
  },
  {
   "cell_type": "code",
   "execution_count": null,
   "metadata": {},
   "outputs": [],
   "source": [
    "terminos = ['-12x', '+4', '-1x', '+5x', '-10']\n",
    "\n",
    "for i in terminos:\n",
    "    if 'x' in i:\n",
    "        print('El término {} es lineal.'.format(i))\n",
    "    else:\n",
    "        print('El término {} es independiente.'.format(i))"
   ]
  },
  {
   "cell_type": "markdown",
   "metadata": {},
   "source": [
    "### La función ejercicio\n",
    "```python\n",
    "Recibe una expresión lineal y su versión simplificada\n",
    "Muestra información sobre el ejercicio\n",
    "\n",
    "Presenta la expresión lineal\n",
    "Solicita la expresión simplificada\n",
    "Almacena la respuesta\n",
    "\n",
    "Si la respuesta es igual a la solución\n",
    "    Felicita\n",
    "sino\n",
    "    Muestra la expresión reducida\n",
    "```"
   ]
  },
  {
   "cell_type": "code",
   "execution_count": null,
   "metadata": {},
   "outputs": [],
   "source": [
    "def ejercicio(expresion, solucion):\n",
    "    \"\"\"\n",
    "    Presenta un ejercicio de reducción de expresiones lineales.\n",
    "    Recibe una expresión lineal y su valor simplificado como textos.\n",
    "    Solicita y evalúa una respuesta y si es incorrecta muestra la solución.\n",
    "    \"\"\"\n",
    "    # muestra información sobre el ejercicio\n",
    "    print(\"\\nEjercicio de simplificación de expresiones lineales\")\n",
    "    print(\"Ejemplos de respuestas: 3x + 1, -x + 8, 2, -5x, 0, x + 1\\n\")\n",
    "    \n",
    "    # presenta la expresión lineal, solicita la expresión simplificada\n",
    "    # y almacena la respuesta\n",
    "    respuesta = input(\"Simplifique la expresión lineal  {} = \".format(expresion))\n",
    "\n",
    "    # si la respuesta coincide con la solución\n",
    "    if respuesta == solucion:\n",
    "        print('¡Muy bien!')\n",
    "    # sino, la respuesta es diferente\n",
    "    else:\n",
    "        print('La solución es {}.'.format(solucion))"
   ]
  },
  {
   "cell_type": "code",
   "execution_count": null,
   "metadata": {},
   "outputs": [],
   "source": [
    "for expresion, solucion in zip(expresiones, soluciones):\n",
    "    ejercicio(expresion, solucion)"
   ]
  },
  {
   "cell_type": "markdown",
   "metadata": {},
   "source": [
    "## 3.2 La sentencia while\n",
    "La sentencia **while** ejecuta repetidamente un bloque mientras la evaluación de una expresión sea cierta."
   ]
  },
  {
   "cell_type": "code",
   "execution_count": null,
   "metadata": {},
   "outputs": [],
   "source": [
    "\"\"\"\n",
    "while expresion:\n",
    "    sentencias\n",
    "[else:\n",
    "    sentencias]\n",
    "\"\"\"\n",
    "x = ''\n",
    "while x != 'no':\n",
    "    x = input('¿Continuar? ')"
   ]
  },
  {
   "cell_type": "markdown",
   "metadata": {},
   "source": [
    "### Incrementar el valor de un objeto"
   ]
  },
  {
   "cell_type": "code",
   "execution_count": null,
   "metadata": {},
   "outputs": [],
   "source": [
    "i = 10\n",
    "print(i)\n",
    "i = i + 20\n",
    "print(i)\n",
    "i += 30\n",
    "print(i)"
   ]
  },
  {
   "cell_type": "code",
   "execution_count": null,
   "metadata": {},
   "outputs": [],
   "source": [
    "i = 1\n",
    "while i <= 5:\n",
    "    print(i)\n",
    "    i = i + 1"
   ]
  },
  {
   "cell_type": "markdown",
   "metadata": {},
   "source": [
    "### Los ejercicios con el bucle while"
   ]
  },
  {
   "cell_type": "code",
   "execution_count": null,
   "metadata": {},
   "outputs": [],
   "source": [
    "# i apunta al primer índice de la lista de expresiones\n",
    "i = 0\n",
    "\n",
    "# mientras i sea menor que el número de elementos\n",
    "while i < len(expresiones):\n",
    "    \n",
    "    # muestra un ejercicio\n",
    "    ejercicio(expresiones[i], soluciones[i])\n",
    "    \n",
    "    # incrementa índice en 1, similar a i = i + 1\n",
    "    i += 1"
   ]
  },
  {
   "cell_type": "markdown",
   "metadata": {},
   "source": [
    "### La sentencia break\n",
    "La sentencia break causa que el bucle **while** y el bucle **for** terminen de inmediato."
   ]
  },
  {
   "cell_type": "code",
   "execution_count": null,
   "metadata": {},
   "outputs": [],
   "source": [
    "while True:\n",
    "    print(\"Resolver 6x + 1 = 2x + 9\")\n",
    "    \n",
    "    respuesta = input('x = ')\n",
    "    \n",
    "    if respuesta == '2':\n",
    "        print(\"Muy bien.\")\n",
    "        break\n",
    "    else:\n",
    "        print('La solución es x = 2.')"
   ]
  },
  {
   "cell_type": "markdown",
   "metadata": {},
   "source": [
    "### Ejercicios con opción de conclusión anticipada"
   ]
  },
  {
   "cell_type": "code",
   "execution_count": null,
   "metadata": {},
   "outputs": [],
   "source": [
    "i = 0\n",
    "while True:\n",
    "    # activa un ejercicio\n",
    "    ejercicio(expresiones[i], soluciones[i])\n",
    "    \n",
    "    # incrementa índice en 1, similar a i = i + 1\n",
    "    i += 1\n",
    "\n",
    "    # si el índice está fuera de rango\n",
    "    if i == len(expresiones):\n",
    "        print(\"No hay más expresiones para reducir.\")\n",
    "        break\n",
    "    # si la respuesta es 'no'\n",
    "    elif input('¿Continuar?(si/no): ') == 'no':\n",
    "        print(\"El usuario interrumpió los ejercicios.\")\n",
    "        break"
   ]
  },
  {
   "cell_type": "markdown",
   "metadata": {},
   "source": [
    "### Práctica"
   ]
  },
  {
   "cell_type": "markdown",
   "metadata": {},
   "source": [
    "### 1\n",
    "```python\n",
    "Algoritmo para obtener el valor absoluto de un número\n",
    "\n",
    "Asignar un número a un objeto n\n",
    "\n",
    "Si n es menor que cero  ( n < 0 )\n",
    "    Asignar a n su inverso aditivo ( -n )\n",
    "Mostrar n\n",
    "\n",
    "Prueba con varios valores de a. Por ejemplo -10, 5 y 0 deben producir 10, 5 y 0\n",
    "```"
   ]
  },
  {
   "cell_type": "code",
   "execution_count": null,
   "metadata": {},
   "outputs": [],
   "source": [
    "n = colocar_un_valor_entero\n",
    "\n",
    "if n colocar_una_comparacion 0:\n",
    "    n = insertar_una_operacion_con_n\n",
    "print(n)"
   ]
  },
  {
   "cell_type": "markdown",
   "metadata": {},
   "source": [
    "<a id='tarea4'></a><br>\n",
    "# [Tarea 4](#inicio)\n",
    "# Midiendo desempeños\n",
    "### Objetivo de aprendizaje:\n",
    "- Al finalizar esta tarea serás capaz de calcular intervalos y aproximar números decimales."
   ]
  },
  {
   "cell_type": "markdown",
   "metadata": {},
   "source": [
    "## 4.1 Calculando intervalos\n",
    "La función time del paquete time sirve para medir intervalos, o diferencias de tiempos. Para usar la función se utiliza la directiva **from** time (del paquete time) **import** time (incluir la función time). La función **time** retorna los segundos transcurridos desde el inicio de 1970."
   ]
  },
  {
   "cell_type": "code",
   "execution_count": null,
   "metadata": {},
   "outputs": [],
   "source": [
    "from time import time"
   ]
  },
  {
   "cell_type": "code",
   "execution_count": null,
   "metadata": {},
   "outputs": [],
   "source": [
    "t = time()\n",
    "t"
   ]
  },
  {
   "cell_type": "markdown",
   "metadata": {},
   "source": [
    "### La función round\n",
    "La función round redondea números a enteros y con cifras decimales."
   ]
  },
  {
   "cell_type": "code",
   "execution_count": null,
   "metadata": {},
   "outputs": [],
   "source": [
    "round(1.495)"
   ]
  },
  {
   "cell_type": "code",
   "execution_count": null,
   "metadata": {},
   "outputs": [],
   "source": [
    "round(1.495, 1)"
   ]
  },
  {
   "cell_type": "code",
   "execution_count": null,
   "metadata": {},
   "outputs": [],
   "source": [
    "round(1.493, 2)"
   ]
  },
  {
   "cell_type": "markdown",
   "metadata": {},
   "source": [
    "### Esperando una respuesta"
   ]
  },
  {
   "cell_type": "code",
   "execution_count": null,
   "metadata": {},
   "outputs": [],
   "source": [
    "# registra el tiempo actual en segundos\n",
    "tiempo = time()\n",
    "\n",
    "input('Espera unos segundos y pulsa Entrar ')\n",
    "\n",
    "# resta al tiempo actual el tiempo registrado anteriormente\n",
    "tiempo = time() - tiempo\n",
    "\n",
    "print(\"Transcurrieron {} segundos.\".format(round(tiempo))) "
   ]
  },
  {
   "cell_type": "markdown",
   "metadata": {},
   "source": [
    "## 4.2 Ejercicios de reducción de expresiones lineales\n",
    "### Algoritmo\n",
    "```python\n",
    "Crea lista de expresiones y lista de soluciones\n",
    "\n",
    "Presenta el programa\n",
    "\n",
    "Inicializa aciertos en cero\n",
    "Mide tiempo de inicio de los ejercicios\n",
    "\n",
    "Para cada expresión y solución en las listas\n",
    "    Presenta el ejercicio\n",
    "    Solicita y almacena la respuesta\n",
    "    Si la respuesta y la solución coinciden\n",
    "        Felicita\n",
    "        Incrementa aciertos en uno\n",
    "    Sino\n",
    "        Muestra la expresión reducida\n",
    "\n",
    "Calcula tiempo empleado en resolver los ejercicios\n",
    "\n",
    "Presenta número de aciertos y tiempo empleado\n",
    "```"
   ]
  },
  {
   "cell_type": "code",
   "execution_count": null,
   "metadata": {},
   "outputs": [],
   "source": [
    "# --------------------------------------------------------------------\n",
    "# crea lista de ecuaciones y de soluciones\n",
    "expresiones = [\"3x + 7 - x - 6\", \"5x + 9 - 5x - 5\", \"-x - 8 + 2x + 8\"]\n",
    "soluciones = [\"2x + 1\", \"4\", \"x\"]\n",
    "\n",
    "# --------------------------------------------------------------------\n",
    "# presenta una descripción del programa\n",
    "print(\"\\nEjercicio de simplificación de expresiones lineales\")\n",
    "print('Total de ejercicios: {}'.format(len(expresiones)))\n",
    "print(\"Ejemplos de respuestas: 3x + 1, -x + 8, 2, -5x, 0, x + 1\\n\")\n",
    "\n",
    "# --------------------------------------------------------------------\n",
    "# inicializa el número de aciertos en cero\n",
    "aciertos = 0\n",
    "\n",
    "# registra el tiempo actual en segundos\n",
    "tiempo = time()\n",
    "\n",
    "# para cada expresión y solución en las listas\n",
    "for expresion, solucion in zip(expresiones, soluciones):\n",
    "    print()  # una línea vacía como separador\n",
    "    \n",
    "    # muestra una expresión para simplificar,\n",
    "    # lee el texto ingresado por el usuario\n",
    "    # y lo asigna al objeto respuesta\n",
    "    respuesta = input(\"Simplifique la expresión lineal  {} = \".format(expresion))\n",
    "\n",
    "    # si la respuesta coincide con la solución\n",
    "    if respuesta == solucion:\n",
    "        print('¡Muy bien!')\n",
    "        aciertos = aciertos + 1\n",
    "    # sino la respuestá es diferente\n",
    "    else:\n",
    "        print('Respuesta incorrecta, la solución es {}.'.format(solucion))\n",
    "\n",
    "# resta al tiempo actual el tiempo registrado anteriormente\n",
    "tiempo = time() - tiempo\n",
    "\n",
    "# --------------------------------------------------------------------\n",
    "print()  # una línea vacía\n",
    "\n",
    "# presenta el número de aciertos\n",
    "if aciertos == 0:\n",
    "    print('Ánimos, sigue intentando.')\n",
    "elif aciertos == 1:\n",
    "    print(\"Has reducido una expresión correctamente.\") \n",
    "else:\n",
    "    print(\"Has reducido {} expresiones correctamente.\".format(aciertos)) \n",
    "\n",
    "# presenta el tiempo empleado\n",
    "print(\"Tiempo empleado: {} segundos.\".format(round(tiempo)))"
   ]
  },
  {
   "cell_type": "markdown",
   "metadata": {},
   "source": [
    "### Separando tareas en funciones"
   ]
  },
  {
   "cell_type": "code",
   "execution_count": null,
   "metadata": {},
   "outputs": [],
   "source": [
    "from time import time\n",
    "\n",
    "def listas():\n",
    "    # crea lista de ecuaciones y de soluciones\n",
    "    expresiones = [\"3x + 7 - x - 6\", \"5x + 9 - 5x - 5\", \"-x - 8 + 2x + 8\"]\n",
    "    soluciones = [\"2x + 1\", \"4\", \"x\"]\n",
    "    return expresiones, soluciones\n",
    "\n",
    "def presentacion():\n",
    "    # presenta una descripción del programa\n",
    "    print('Ejercicios de simplificaciones de expresiones lineales')\n",
    "    print('Total de ejercicios: {}'.format(len(expresiones)))\n",
    "    print(\"Ejemplos de respuestas: 3x + 1, -x + 8, 2, -5x, 0, x + 1\")\n",
    "\n",
    "def ejercicios(expresiones, soluciones):\n",
    "    # inicializa el número de aciertos en cero\n",
    "    aciertos = 0\n",
    "\n",
    "    # registra el tiempo actual en segundos\n",
    "    tiempo = time()\n",
    "\n",
    "    # para cada ecuación y solución en las listas\n",
    "    for expresion, solucion in zip(expresiones, soluciones):\n",
    "        print()  # una línea vacía como separador\n",
    "\n",
    "        # muestra una expresión para simplificar,\n",
    "        # lee el texto ingresado por el usuario\n",
    "        # y lo asigna al objeto respuesta\n",
    "        respuesta = input(\"Simplifique la expresión algebraica  {} = \".format(expresion))\n",
    "\n",
    "        # si la respuesta coincide con la solución\n",
    "        if respuesta == solucion:\n",
    "            print('¡Muy bien!')\n",
    "            aciertos = aciertos + 1\n",
    "        # sino la respuestá es diferente\n",
    "        else:\n",
    "            print('Respuesta incorrecta, la solución es {}.'.format(solucion))\n",
    "\n",
    "\n",
    "    # resta al tiempo actual el tiempo registrado anteriormente\n",
    "    tiempo = time() - tiempo\n",
    "    \n",
    "    return aciertos, tiempo\n",
    "\n",
    "def reportes(aciertos, tiempo):\n",
    "    # presenta el número de aciertos\n",
    "    if aciertos == 0:\n",
    "        print('Ánimos, sigue intentando.')\n",
    "    elif aciertos == 1:\n",
    "        print(\"Has reducido una expresión correctamente.\") \n",
    "    else:\n",
    "        print(\"Has reducido {} expresiones correctamente.\".format(aciertos)) \n",
    "\n",
    "    # presenta el tiempo empleado\n",
    "    print(\"Tiempo empleado: {} segundos.\".format(round(tiempo)))"
   ]
  },
  {
   "cell_type": "code",
   "execution_count": null,
   "metadata": {},
   "outputs": [],
   "source": [
    "expresiones, soluciones = listas()\n",
    "presentacion()\n",
    "aciertos, tiempo = ejercicios(expresiones, soluciones)\n",
    "print()\n",
    "reportes(aciertos, tiempo)"
   ]
  },
  {
   "cell_type": "markdown",
   "metadata": {},
   "source": [
    "<a id='tarea5'></a><br>\n",
    "# [Tarea 5](#inicio)\n",
    "# Creando listas de términos y expresiones lineales\n",
    "### Objetivo de aprendizaje:\n",
    "- Al finalizar esta tarea serás capaz de crear listas con valores aleatoorios; concatenar y reemplazar textos; y crear funciones con parámetros por defecto."
   ]
  },
  {
   "cell_type": "markdown",
   "metadata": {},
   "source": [
    " ## 5.1 Selección aleatoria de números y textos"
   ]
  },
  {
   "cell_type": "markdown",
   "metadata": {},
   "source": [
    "### La función randrange\n",
    "La función **randrange** retorna un número elegido aleatoriamente de entre un rango de números enteros. Para utilizar la función se importa desde el módulo **random**."
   ]
  },
  {
   "cell_type": "code",
   "execution_count": null,
   "metadata": {},
   "outputs": [],
   "source": [
    "from random import randrange"
   ]
  },
  {
   "cell_type": "code",
   "execution_count": null,
   "metadata": {},
   "outputs": [],
   "source": [
    "randrange(1, 10)"
   ]
  },
  {
   "cell_type": "markdown",
   "metadata": {},
   "source": [
    "### Ecuación con coeficientes y constantes elegidos aleatoriamente"
   ]
  },
  {
   "cell_type": "code",
   "execution_count": null,
   "metadata": {},
   "outputs": [],
   "source": [
    "a = randrange(1, 11)\n",
    "b = randrange(1, 11)\n",
    "c = randrange(1, 11)\n",
    "print(\"Resolver {}x + {} = {}\".format(a, b, c))"
   ]
  },
  {
   "cell_type": "markdown",
   "metadata": {},
   "source": [
    "### La función choice\n",
    "La función **choice** del módulo **random** elige aleatoriamente un objeto de un objeto iterable, como las listas."
   ]
  },
  {
   "cell_type": "code",
   "execution_count": null,
   "metadata": {},
   "outputs": [],
   "source": [
    "from random import choice "
   ]
  },
  {
   "cell_type": "code",
   "execution_count": null,
   "metadata": {},
   "outputs": [],
   "source": [
    "choice(['+', '-'])"
   ]
  },
  {
   "cell_type": "code",
   "execution_count": null,
   "metadata": {},
   "outputs": [],
   "source": [
    "choice(range(1, 10))"
   ]
  },
  {
   "cell_type": "markdown",
   "metadata": {},
   "source": [
    "### Términos independientes y lineales"
   ]
  },
  {
   "cell_type": "code",
   "execution_count": null,
   "metadata": {},
   "outputs": [],
   "source": [
    "signo = choice(['-', '+'])\n",
    "numero = randrange(1, 11)\n",
    "letra = choice(['', 'x'])\n",
    "\n",
    "s = \"{}{}{}\".format(signo, numero, letra)\n",
    "if letra == 'x':\n",
    "    print(\"{} es un término lineal.\".format(s))\n",
    "else:\n",
    "    print(\"{} es un término independiente.\".format(s))"
   ]
  },
  {
   "cell_type": "markdown",
   "metadata": {},
   "source": [
    "## 5.2 El método append de las listas"
   ]
  },
  {
   "cell_type": "code",
   "execution_count": null,
   "metadata": {},
   "outputs": [],
   "source": [
    "numeros = [1]\n",
    "numeros"
   ]
  },
  {
   "cell_type": "code",
   "execution_count": null,
   "metadata": {},
   "outputs": [],
   "source": [
    "numeros.append(2)\n",
    "numeros.append(3)\n",
    "numeros.append(4)\n",
    "numeros"
   ]
  },
  {
   "cell_type": "markdown",
   "metadata": {},
   "source": [
    "### Lista de términos independientes y lineales"
   ]
  },
  {
   "cell_type": "code",
   "execution_count": null,
   "metadata": {},
   "outputs": [],
   "source": [
    "terminos = []\n",
    "for i in range(5):\n",
    "    signo = choice(['-', '+'])\n",
    "    numero = randrange(1, 11)\n",
    "    letra = choice(['', 'x'])\n",
    "    s = \"{}{}{}\".format(signo, numero, letra)\n",
    "    terminos.append(s)\n",
    "terminos"
   ]
  },
  {
   "cell_type": "markdown",
   "metadata": {},
   "source": [
    "## 5.3 Procesamiento de textos y listas"
   ]
  },
  {
   "cell_type": "markdown",
   "metadata": {},
   "source": [
    "### El operador + con textos"
   ]
  },
  {
   "cell_type": "code",
   "execution_count": null,
   "metadata": {},
   "outputs": [],
   "source": [
    "texto = \"Ecuaciones\"\n",
    "texto = texto + \" lineales\"\n",
    "texto"
   ]
  },
  {
   "cell_type": "markdown",
   "metadata": {},
   "source": [
    "### Selección de grupos de elementos en las listas"
   ]
  },
  {
   "cell_type": "code",
   "execution_count": null,
   "metadata": {},
   "outputs": [],
   "source": [
    "letras = ['a', 'b', 'c', 'd']\n",
    "print(letras[1:3])\n",
    "print(letras[:3])\n",
    "print(letras[1:])"
   ]
  },
  {
   "cell_type": "markdown",
   "metadata": {},
   "source": [
    "### Formando una expresión lineal"
   ]
  },
  {
   "cell_type": "code",
   "execution_count": null,
   "metadata": {},
   "outputs": [],
   "source": [
    "t = ['+2x', '-4', '+10', '-6x', '+2']\n",
    "s = t[0]\n",
    "for i in t[1:]:\n",
    "    s += i\n",
    "s"
   ]
  },
  {
   "cell_type": "markdown",
   "metadata": {},
   "source": [
    "### El método replace de los textos\n",
    "El método replace reemplaza un texto dentro de otro texto y retorna un nuevo objeto de texto, sin modificar al original. Si no se encuentra el texto para reemplazar entonces retorna el objeto de texto original."
   ]
  },
  {
   "cell_type": "code",
   "execution_count": null,
   "metadata": {},
   "outputs": [],
   "source": [
    "termino = '+3x'\n",
    "termino.replace('+3x', '3x')"
   ]
  },
  {
   "cell_type": "code",
   "execution_count": null,
   "metadata": {},
   "outputs": [],
   "source": [
    "termino = '-1x'\n",
    "termino.replace('-1x', '-x').replace('+1x', 'x')"
   ]
  },
  {
   "cell_type": "markdown",
   "metadata": {},
   "source": [
    "### Mejorando la expresión lineal"
   ]
  },
  {
   "cell_type": "code",
   "execution_count": null,
   "metadata": {},
   "outputs": [],
   "source": [
    "terminos = ['+2x', '+4', '+10', '+6x', '+2']\n",
    "\n",
    "s = terminos[0]\n",
    "s = s.replace('+1x', 'x').replace('-1x', '-x').replace('+', '')\n",
    "\n",
    "for i in terminos[1:]:\n",
    "    t = i.replace('+1x', '+x').replace('-1x', '-x').replace('+', ' + ').replace('-', ' - ')\n",
    "    s += t\n",
    "s"
   ]
  },
  {
   "cell_type": "markdown",
   "metadata": {},
   "source": [
    "## 5.4 Las funciones terminos y expresion"
   ]
  },
  {
   "cell_type": "markdown",
   "metadata": {},
   "source": [
    "### Función terminos\n",
    "```python\n",
    "Recibe dos números:\n",
    "    n : número de términos, con valor por defecto en 3\n",
    "    m: define el rango de enteros para los números en cada término,\n",
    "        con valor por defecto en 10\n",
    "Retorna:\n",
    "    t: un lista de n términos, entre lineales e independientes\n",
    "    A: el coeficiente de los términos lineales simplificados\n",
    "    B: la constante de los términos independientes simplificados\n",
    "\n",
    "Inicializa la lista t y los números A y B \n",
    "Repite n veces\n",
    "    Elige signo entre - y +\n",
    "    Elige número entre 1 y m\n",
    "    Elige literal entre '' y 'x'\n",
    "    Forma el término y lo agrega a la lista\n",
    "\n",
    "    Si el signo es negativo\n",
    "        Reemplaza el número por su inverso aditivo\n",
    "        \n",
    "    Si el término es lineal\n",
    "        Agrega el número a A\n",
    "    Sino\n",
    "        Agrega el número a B\n",
    "Retorna la lista y los números A y B\n",
    "```"
   ]
  },
  {
   "cell_type": "code",
   "execution_count": null,
   "metadata": {},
   "outputs": [],
   "source": [
    "from random import randrange\n",
    "from random import choice \n",
    "\n",
    "def terminos(n=3, m=10):\n",
    "    \"\"\"\n",
    "    Crea y retorna una lista de términos entre lineales e independientes,\n",
    "    más el coeficiente lineal y la constante de la expresión lineal reducida.\n",
    "    Toma el número de términos y el límite para el rango de enteros.\n",
    "    \"\"\"\n",
    "    # inicializa la lista, el coeficiente lineal y la constante\n",
    "    t = []\n",
    "    a = b = 0\n",
    "\n",
    "    # crea n términos\n",
    "    for i in range(n):\n",
    "        \n",
    "        # forma el término\n",
    "        signo = choice(['-', '+'])\n",
    "        numero = randrange(1, m + 1)\n",
    "        letra = choice(['', 'x'])\n",
    "        s = \"{}{}{}\".format(signo, numero, letra)\n",
    "        \n",
    "        # agrega el término a la lista\n",
    "        t.append(s)\n",
    "\n",
    "        # ajusta el número para la reducción de términos\n",
    "        if signo == '-':\n",
    "            numero = -numero\n",
    "        \n",
    "        # si el término es lineal acumula el coeficiente lineal\n",
    "        if letra == 'x':\n",
    "            a += numero\n",
    "        # sino acumula la constante\n",
    "        else:\n",
    "            b += numero\n",
    "    \n",
    "    return t, a, b"
   ]
  },
  {
   "cell_type": "code",
   "execution_count": null,
   "metadata": {},
   "outputs": [],
   "source": [
    "terminos()"
   ]
  },
  {
   "cell_type": "code",
   "execution_count": null,
   "metadata": {},
   "outputs": [],
   "source": [
    "terminos(5, 2)"
   ]
  },
  {
   "cell_type": "markdown",
   "metadata": {},
   "source": [
    "### Función expresion\n",
    "```python\n",
    "Recibe una lista de términos\n",
    "Inicializa un texto con el primer elemento de la lista\n",
    "Ajusta el texto para una presentación convencional\n",
    "Repite para los demás elementos de la lista\n",
    "    Ajusta el texto del elemento para una presentación convencional\n",
    "    Agrega el elemento ajustado al texto principal\n",
    "Retorna la expresión\n",
    "```"
   ]
  },
  {
   "cell_type": "code",
   "execution_count": null,
   "metadata": {},
   "outputs": [],
   "source": [
    "def expresion(lista):\n",
    "    \"\"\"\n",
    "    Forma y retorna una expresión lineal con los elementos de lista.\n",
    "    \"\"\"\n",
    "    # toma el primer elemento de lista\n",
    "    s = lista[0]\n",
    "    # ajusta la presentación\n",
    "    s = s.replace('+1x', 'x').replace('-1x', '-x').replace('+', '')\n",
    "\n",
    "    # para los demás elementos de la lista\n",
    "    for i in lista[1:]:\n",
    "        # ajusta la presentación\n",
    "        t = i.replace('+1x', '+x').replace('-1x', '-x').replace('+', ' + ').replace('-', ' - ')\n",
    "        # agrega el texto a la expresión\n",
    "        s = s + t\n",
    "        \n",
    "    # retorna la expresión\n",
    "    return s"
   ]
  },
  {
   "cell_type": "markdown",
   "metadata": {},
   "source": [
    "### Términos y expresiones"
   ]
  },
  {
   "cell_type": "code",
   "execution_count": null,
   "metadata": {},
   "outputs": [],
   "source": [
    "t, a, b = terminos(5)\n",
    "print(\"Lista de términos: {}\".format(t))\n",
    "print(\"Expresión reducida: {}x + {}\".format(a, b).replace('+ +', '+ ').replace('+ -', '- '))\n",
    "s = expresion(t)\n",
    "print(\"Expresión lineal: {}\".format(s))"
   ]
  },
  {
   "cell_type": "markdown",
   "metadata": {},
   "source": [
    "<a id='tarea6'></a><br>\n",
    "# [Tarea 6](#inicio)\n",
    "# Planteando ecuaciones\n",
    "### Objetivo de aprendizaje:\n",
    "- Al finalizar esta tarea serás capaz de extender listas y procesar divisiones entre números enteros."
   ]
  },
  {
   "cell_type": "markdown",
   "metadata": {},
   "source": [
    "## 6.1 Formando una ecuación"
   ]
  },
  {
   "cell_type": "code",
   "execution_count": null,
   "metadata": {},
   "outputs": [],
   "source": [
    "p, a, b = terminos(3)\n",
    "q, c, d = terminos(3)\n",
    "print(\"{} = {}\".format(expresion(p), expresion(q)))"
   ]
  },
  {
   "cell_type": "markdown",
   "metadata": {},
   "source": [
    "### Asegurando solución entera"
   ]
  },
  {
   "cell_type": "code",
   "execution_count": null,
   "metadata": {},
   "outputs": [],
   "source": [
    "while True:\n",
    "    p, a, b = terminos(3, 12)\n",
    "    q, c, d = terminos(3, 12)\n",
    "    \n",
    "    # ax + b = cx + d => x = (d - b) // (a - c), si a != 0\n",
    "\n",
    "    if a != c and (d - b) % (a - c) == 0:\n",
    "        x = (d - b) // (a - c)\n",
    "        break\n",
    "\n",
    "print(\"{} = {}\".format(expresion(p), expresion(q)))\n",
    "print(\"x = {}\".format(x))"
   ]
  },
  {
   "cell_type": "markdown",
   "metadata": {},
   "source": [
    "### La función plantear"
   ]
  },
  {
   "cell_type": "code",
   "execution_count": null,
   "metadata": {},
   "outputs": [],
   "source": [
    "def plantear(m=3, n=3, g=12):\n",
    "    \"\"\"\n",
    "    Retorna los términos para una ecuación con solución entera.\n",
    "    Toma el número de términos m y n para cada lado de la\n",
    "    ecuación, y el número g para el rango de enteros.\n",
    "    \"\"\"\n",
    "    # repetir indefinidamente\n",
    "    while True:\n",
    "        # primer miembro de la ecuación\n",
    "        p, a, b = terminos(m, g)\n",
    "        # segundo miembro de la ecuación\n",
    "        q, c, d = terminos(n, g)\n",
    "\n",
    "        # evalúa que los coeficientes lineales reducidos \n",
    "        # sean diferentes y que la solución sea entera\n",
    "        # ax + b = cx + d => x = (d - b) // (a - c), si a != 0\n",
    "        if a != c and (d - b) % (a - c) == 0:\n",
    "            x = (d - b) // (a - c)\n",
    "\n",
    "            # descarta soluciones en {-1, 0, 1}\n",
    "            # para elevar el nivel de los ejercicios\n",
    "            if x != 0 and x != -1 and x != 1:\n",
    "                # termina el bucle\n",
    "                break\n",
    "    \n",
    "    # retorna las listas, coeficientes, constantes y la solución\n",
    "    return p, a, b, q, c, d, x "
   ]
  },
  {
   "cell_type": "markdown",
   "metadata": {},
   "source": [
    "### Prueba de la función plantear"
   ]
  },
  {
   "cell_type": "code",
   "execution_count": null,
   "metadata": {},
   "outputs": [],
   "source": [
    "p, a, b, q, c, d, x = plantear()\n",
    "print(\"{} = {}\".format(expresion(p), expresion(q)))\n",
    "print(\"x = {}\".format(x))"
   ]
  },
  {
   "cell_type": "markdown",
   "metadata": {},
   "source": [
    "## 6.2 Trasladando términos"
   ]
  },
  {
   "cell_type": "markdown",
   "metadata": {},
   "source": [
    "### Trasladando los términos lineales"
   ]
  },
  {
   "cell_type": "code",
   "execution_count": null,
   "metadata": {},
   "outputs": [],
   "source": [
    "primero = []\n",
    "for i in p:\n",
    "    if 'x' in i:\n",
    "        primero.append(i)\n",
    "\n",
    "for i in q:\n",
    "    if 'x' in i:\n",
    "        if '-' in i:\n",
    "            primero.append(i.replace('-', '+'))\n",
    "        else:\n",
    "            primero.append(i.replace('+', '-'))       \n",
    "\n",
    "primero"
   ]
  },
  {
   "cell_type": "markdown",
   "metadata": {},
   "source": [
    "### Trasladando los términos independientes"
   ]
  },
  {
   "cell_type": "code",
   "execution_count": null,
   "metadata": {},
   "outputs": [],
   "source": [
    "segundo = []\n",
    "for i in q:\n",
    "    if 'x' not in i:\n",
    "        segundo.append(i)\n",
    "\n",
    "for i in p:\n",
    "    if 'x' not in i:\n",
    "        if '-' in i:\n",
    "            segundo.append(i.replace('-', '+'))\n",
    "        else:\n",
    "            segundo.append(i.replace('+', '-'))         \n",
    "\n",
    "segundo"
   ]
  },
  {
   "cell_type": "markdown",
   "metadata": {},
   "source": [
    "### El método extend de las listas"
   ]
  },
  {
   "cell_type": "code",
   "execution_count": null,
   "metadata": {},
   "outputs": [],
   "source": [
    "a = [1, 2, 3]\n",
    "b = [4, 5]\n",
    "a.extend(b)\n",
    "a"
   ]
  },
  {
   "cell_type": "markdown",
   "metadata": {},
   "source": [
    "### La función trasladar"
   ]
  },
  {
   "cell_type": "code",
   "execution_count": null,
   "metadata": {},
   "outputs": [],
   "source": [
    "def trasladar(p, q):\n",
    "    \"\"\"\n",
    "    Traslada los términos lineales al primer miembro\n",
    "    de la ecuación, y los términos independientes al\n",
    "    segundo miembro de la ecuación.\n",
    "    \"\"\"\n",
    "    # inicializa listas y números\n",
    "    primero = []\n",
    "    segundo = []\n",
    "    anexo = []\n",
    "\n",
    "    # para cada término de p\n",
    "    for i in p:\n",
    "        # si es lineal\n",
    "        if 'x' in i:\n",
    "            # agrega al primer miembro \n",
    "            primero.append(i)\n",
    "        # si es independiente\n",
    "        else:\n",
    "            # cambia de signo y agrega al anexo del segundo miembro \n",
    "            anexo.append(i.replace('-', '*').replace('+', '-').replace('*', '+'))\n",
    "\n",
    "    # para cada término de q\n",
    "    for i in q:\n",
    "        # si es lineal\n",
    "        if 'x' in i:\n",
    "            # cambia de signo y agrega al primer miembro \n",
    "            primero.append(i.replace('-', '*').replace('+', '-').replace('*', '+'))\n",
    "        # si es independiente\n",
    "        else:\n",
    "            # agrega al segundo miembro \n",
    "            segundo.append(i)\n",
    "\n",
    "    # agrega la lista anexo al segundo miembro\n",
    "    segundo.extend(anexo)\n",
    "    \n",
    "    return primero, segundo"
   ]
  },
  {
   "cell_type": "markdown",
   "metadata": {},
   "source": [
    "### Prueba de la función trasladar"
   ]
  },
  {
   "cell_type": "code",
   "execution_count": null,
   "metadata": {},
   "outputs": [],
   "source": [
    "p, a, b, q, c, d, x = plantear()\n",
    "p1, q1 = trasladar(p, q)\n",
    "print(\"{} = {}\".format(expresion(p), expresion(q)))\n",
    "print(\"{} = {}\".format(expresion(p1), expresion(q1)))\n",
    "print(\"x = {}\".format(x))"
   ]
  },
  {
   "cell_type": "markdown",
   "metadata": {},
   "source": [
    "<a id='tarea7'></a><br>\n",
    "# [Tarea 7](#inicio)\n",
    "# Resolviendo ecuaciones\n",
    "- Al finalizar esta tarea serás capaz de encontrar y repetir textos, y crear programas interactivos."
   ]
  },
  {
   "cell_type": "markdown",
   "metadata": {},
   "source": [
    "## 7.1 La función resolver"
   ]
  },
  {
   "cell_type": "markdown",
   "metadata": {},
   "source": [
    "### Algoritmo\n",
    "```python\n",
    "Recibe:\n",
    "    p, q: los términos de cada lado de la ecuación\n",
    "    x   : la solución\n",
    "    a, b: los números de la ecuación equivalente ax = b\n",
    "\n",
    "Forma un texto para la ecuación original\n",
    "Forma un texto la ecuación con los términos trasladados\n",
    "Forma un texto para la ecuación ax = b\n",
    "Forma un texto para la ecuación x = b/a\n",
    "Forma un texto para la solución x = x\n",
    "\n",
    "Identifica la expresión con el signo igual de mayor posición en el texto\n",
    "\n",
    "Para cada texto inserta desde la izquierda los \n",
    "espacios necesarios para alinear los signos iguales\n",
    "\n",
    "Muestra los nuevos textos\n",
    "```"
   ]
  },
  {
   "cell_type": "markdown",
   "metadata": {},
   "source": [
    "### Repetición de caracteres\n",
    "El operador * crea un número de copias de un texto y las concatena"
   ]
  },
  {
   "cell_type": "code",
   "execution_count": null,
   "metadata": {},
   "outputs": [],
   "source": [
    "barra = \"Olé, \" * 3 + \"Olé\"\n",
    "barra"
   ]
  },
  {
   "cell_type": "markdown",
   "metadata": {},
   "source": [
    "### El método find de los objetos de texto\n",
    "El método **find** retorna la posición de inicio de un texto dentro de otro. Si el texto no se encuentra retorna -1."
   ]
  },
  {
   "cell_type": "code",
   "execution_count": null,
   "metadata": {},
   "outputs": [],
   "source": [
    "barra.find(',')"
   ]
  },
  {
   "cell_type": "markdown",
   "metadata": {},
   "source": [
    "### Función resolver"
   ]
  },
  {
   "cell_type": "code",
   "execution_count": null,
   "metadata": {},
   "outputs": [],
   "source": [
    "def resolver(p, q, x, a, b):\n",
    "    \"\"\"\n",
    "    Muestra los pasos de la solución de una ecuación.\n",
    "    Toma los términos de cada lado de la ecuación,\n",
    "    la solución entera y los números del paso ax = b.\n",
    "    \"\"\"\n",
    "    # ecuación original\n",
    "    s1 = \"{} = {}\".format(expresion(p), expresion(q))\n",
    "    \n",
    "    # traslación de términos\n",
    "    p1, q1 = trasladar(p, q)\n",
    "    s2 = \"{} = {}\".format(expresion(p1), expresion(q1))\n",
    "    \n",
    "    # simplificación\n",
    "    s3 = \"{}x = {}\".format(a, b)\n",
    "\n",
    "    # despeje de la variable\n",
    "    s4 = \"x = {}/{}\".format(b, a)\n",
    "    \n",
    "    # paso final\n",
    "    s5 = \"x = {}\".format(x)\n",
    "\n",
    "    # toma la posición más alejada del signo igual\n",
    "    ajuste = s1.find('=')\n",
    "    n = s2.find('=')\n",
    "    if n > ajuste:\n",
    "        ajuste = n\n",
    "\n",
    "    # inserta espacios para alinear los signos iguales\n",
    "    s1 = ' '*(ajuste - s1.find('=')) + s1\n",
    "    s2 = ' '*(ajuste - s2.find('=')) + s2\n",
    "    s3 = ' '*(ajuste - s3.find('=')) + s3\n",
    "    s4 = ' '*(ajuste - s4.find('=')) + s4\n",
    "    s5 = ' '*(ajuste - s5.find('=')) + s5\n",
    "\n",
    "    # muestra los pasos de la solución\n",
    "    print(s1)\n",
    "    print(s2)\n",
    "    print(s3)\n",
    "    print(s4)\n",
    "    print(s5)"
   ]
  },
  {
   "cell_type": "markdown",
   "metadata": {},
   "source": [
    "### Planteo y solución"
   ]
  },
  {
   "cell_type": "code",
   "execution_count": null,
   "metadata": {},
   "outputs": [],
   "source": [
    "p, a, b, q, c, d, x = plantear()\n",
    "\n",
    "# ax + b = cx + d => (a - c) x = d - b\n",
    "resolver(p, q, x, a - c, d - b)"
   ]
  },
  {
   "cell_type": "markdown",
   "metadata": {},
   "source": [
    "## 7.2 Ejercicios de solución de ecuaciones lineales"
   ]
  },
  {
   "cell_type": "markdown",
   "metadata": {},
   "source": [
    "### Función ejercicios_ecuaciones\n",
    "```python\n",
    "Presenta el programa\n",
    "Inicializa datos\n",
    "Toma el tiempo de inicio\n",
    "Repite para todas las ecuaciones\n",
    "    Plantea una ecuación\n",
    "    Espera por la respuesta de la solución\n",
    "    Si la respuesta es correcta\n",
    "        Felicita e incrementa los aciertos\n",
    "    Sino\n",
    "        Muestra los pasos de la solución\n",
    "Muestra el número de aciertos y el tiempo empleado\n",
    "```"
   ]
  },
  {
   "cell_type": "code",
   "execution_count": null,
   "metadata": {},
   "outputs": [],
   "source": [
    "from time import time\n",
    "\n",
    "def ejercicios_ecuaciones(veces, m=3, n=3, g=12):\n",
    "    \"\"\"\n",
    "    Presenta ejercicios de ecuaciones.\n",
    "    veces: número de ecuaciones para resolver\n",
    "    m: número de términos del primer miembro de la ecuación\n",
    "    n: número de términos del segundo miembro de la ecuación\n",
    "    g: los coeficientes y constantes están entre 1 y g en valor absoluto\n",
    "    \"\"\"\n",
    "\n",
    "    # presenta una descripción del programa\n",
    "    print('Ejercicios de ecuaciones lineales')\n",
    "    print('Total de ejercicios: {}'.format(veces))\n",
    "    print('Ejemplos de respuestas: -3, 4, 0')\n",
    "\n",
    "    # inicializa el número de aciertos en cero\n",
    "    aciertos = 0\n",
    "\n",
    "    # registra el tiempo actual en segundos\n",
    "    tiempo = time()\n",
    "\n",
    "    # para cada ecuación y solución en las listas\n",
    "    for i in range(veces):\n",
    "        print()  # una línea vacía como separador\n",
    "\n",
    "        p, a, b, q, c, d, x = plantear(m, n, g)\n",
    "\n",
    "        print(\"Resuelva {} = {}\".format(expresion(p), expresion(q)))\n",
    "        respuesta = input(\"x = \")\n",
    "\n",
    "        # si la respuesta coincide con la solución\n",
    "        if respuesta == \"{}\".format(x):   # format es necesario para comparar textos\n",
    "            print('¡Muy bien!')\n",
    "            aciertos = aciertos + 1\n",
    "        # sino, la respuesta es diferente\n",
    "        else:\n",
    "            print('Solución:')\n",
    "            resolver(p, q, x, a - c, d - b)\n",
    "\n",
    "    # resta al tiempo actual el tiempo registrado anteriormente\n",
    "    tiempo = time() - tiempo\n",
    "\n",
    "    print()\n",
    "    # presenta el número de aciertos\n",
    "    if aciertos == 0:\n",
    "        print('Ánimos, sigue intentando.')\n",
    "    elif aciertos == 1:\n",
    "        print(\"Has resuelto una ecuación correctamente.\") \n",
    "    else:\n",
    "        print(\"Has resuelto {} ecuaciones correctamente.\".format(aciertos)) \n",
    "\n",
    "    # presenta el tiempo empleado\n",
    "    print(\"Tiempo empleado: {} segundos.\".format(round(tiempo)))"
   ]
  },
  {
   "cell_type": "code",
   "execution_count": null,
   "metadata": {},
   "outputs": [],
   "source": [
    "ejercicios_ecuaciones(2, 2, 3, 12)"
   ]
  },
  {
   "cell_type": "code",
   "execution_count": null,
   "metadata": {},
   "outputs": [],
   "source": [
    "ejercicios_ecuaciones(1, randrange(2, 4), 2, 12)"
   ]
  },
  {
   "cell_type": "markdown",
   "metadata": {},
   "source": [
    "## <a id='tarea8'></a><br>\n",
    "# [Tarea 8](#inicio)\n",
    "# Creando un módulo de funciones\n",
    "- Al finalizar esta tarea serás capaz de crear módulos de Python para reutilizar funciones."
   ]
  },
  {
   "cell_type": "markdown",
   "metadata": {},
   "source": [
    "## 8.1 Creando un módulo Python\n",
    "\n",
    "- En un archivo de texto insertar las funciones.\n",
    "- Agregar un comentario de tres comillas al inicio del archivo.\n",
    "- Guardar el archivo con un nombre y extensión py. En este caso ecuaciones.py"
   ]
  },
  {
   "cell_type": "markdown",
   "metadata": {},
   "source": [
    "## 8.2 Utilizando el módulo"
   ]
  },
  {
   "cell_type": "markdown",
   "metadata": {},
   "source": [
    "### Importando el módulo"
   ]
  },
  {
   "cell_type": "code",
   "execution_count": null,
   "metadata": {},
   "outputs": [],
   "source": [
    "import ecuaciones"
   ]
  },
  {
   "cell_type": "markdown",
   "metadata": {},
   "source": [
    "### Consultando la documentación"
   ]
  },
  {
   "cell_type": "code",
   "execution_count": null,
   "metadata": {},
   "outputs": [],
   "source": [
    "help(ecuaciones)"
   ]
  },
  {
   "cell_type": "markdown",
   "metadata": {},
   "source": [
    "### Utilizando las funciones"
   ]
  },
  {
   "cell_type": "code",
   "execution_count": null,
   "metadata": {},
   "outputs": [],
   "source": [
    "ecuaciones.ejercicios_ecuaciones(4, 2, 2, 5)"
   ]
  },
  {
   "cell_type": "markdown",
   "metadata": {},
   "source": [
    "### Importando las funciones directamente"
   ]
  },
  {
   "cell_type": "code",
   "execution_count": null,
   "metadata": {},
   "outputs": [],
   "source": [
    "from ecuaciones import *"
   ]
  },
  {
   "cell_type": "code",
   "execution_count": null,
   "metadata": {},
   "outputs": [],
   "source": [
    "ejercicios_ecuaciones(1, 2, 2, 5)"
   ]
  },
  {
   "cell_type": "code",
   "execution_count": null,
   "metadata": {},
   "outputs": [],
   "source": [
    "print(\"¡Muchas gracias!\")"
   ]
  },
  {
   "cell_type": "code",
   "execution_count": null,
   "metadata": {},
   "outputs": [],
   "source": []
  }
 ],
 "metadata": {
  "kernelspec": {
   "display_name": "Python 3",
   "language": "python",
   "name": "python3"
  },
  "language_info": {
   "codemirror_mode": {
    "name": "ipython",
    "version": 3
   },
   "file_extension": ".py",
   "mimetype": "text/x-python",
   "name": "python",
   "nbconvert_exporter": "python",
   "pygments_lexer": "ipython3",
   "version": "3.7.6"
  }
 },
 "nbformat": 4,
 "nbformat_minor": 4
}
